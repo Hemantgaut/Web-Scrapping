{
  "nbformat": 4,
  "nbformat_minor": 0,
  "metadata": {
    "colab": {
      "provenance": []
    },
    "kernelspec": {
      "name": "python3",
      "display_name": "Python 3"
    },
    "language_info": {
      "name": "python"
    }
  },
  "cells": [
    {
      "cell_type": "code",
      "execution_count": null,
      "metadata": {
        "colab": {
          "base_uri": "https://localhost:8080/"
        },
        "id": "VSW37B3MVW7b",
        "outputId": "fa4e3e31-43aa-453b-94a3-303b064e8883"
      },
      "outputs": [
        {
          "output_type": "stream",
          "name": "stdout",
          "text": [
            "Looking in indexes: https://pypi.org/simple, https://us-python.pkg.dev/colab-wheels/public/simple/\n",
            "Collecting bs4\n",
            "  Downloading bs4-0.0.1.tar.gz (1.1 kB)\n",
            "  Preparing metadata (setup.py) ... \u001b[?25l\u001b[?25hdone\n",
            "Requirement already satisfied: beautifulsoup4 in /usr/local/lib/python3.9/dist-packages (from bs4) (4.11.2)\n",
            "Requirement already satisfied: soupsieve>1.2 in /usr/local/lib/python3.9/dist-packages (from beautifulsoup4->bs4) (2.4.1)\n",
            "Building wheels for collected packages: bs4\n",
            "  Building wheel for bs4 (setup.py) ... \u001b[?25l\u001b[?25hdone\n",
            "  Created wheel for bs4: filename=bs4-0.0.1-py3-none-any.whl size=1270 sha256=76c4b2d6229b37b5f52a777ebfde4ad8a985b5905ffbec559ec66ed1d8adfd50\n",
            "  Stored in directory: /root/.cache/pip/wheels/73/2b/cb/099980278a0c9a3e57ff1a89875ec07bfa0b6fcbebb9a8cad3\n",
            "Successfully built bs4\n",
            "Installing collected packages: bs4\n",
            "Successfully installed bs4-0.0.1\n"
          ]
        }
      ],
      "source": [
        "pip install bs4"
      ]
    },
    {
      "cell_type": "code",
      "source": [
        "pip install requests"
      ],
      "metadata": {
        "colab": {
          "base_uri": "https://localhost:8080/"
        },
        "id": "QP51jnAYWAgG",
        "outputId": "3db847ac-dcdc-4bdf-d3ab-20e94d20db80"
      },
      "execution_count": null,
      "outputs": [
        {
          "output_type": "stream",
          "name": "stdout",
          "text": [
            "Looking in indexes: https://pypi.org/simple, https://us-python.pkg.dev/colab-wheels/public/simple/\n",
            "Requirement already satisfied: requests in /usr/local/lib/python3.9/dist-packages (2.27.1)\n",
            "Requirement already satisfied: charset-normalizer~=2.0.0 in /usr/local/lib/python3.9/dist-packages (from requests) (2.0.12)\n",
            "Requirement already satisfied: urllib3<1.27,>=1.21.1 in /usr/local/lib/python3.9/dist-packages (from requests) (1.26.15)\n",
            "Requirement already satisfied: idna<4,>=2.5 in /usr/local/lib/python3.9/dist-packages (from requests) (3.4)\n",
            "Requirement already satisfied: certifi>=2017.4.17 in /usr/local/lib/python3.9/dist-packages (from requests) (2022.12.7)\n"
          ]
        }
      ]
    },
    {
      "cell_type": "code",
      "source": [
        "import pandas as pd\n",
        "from bs4 import BeautifulSoup\n",
        "import requests"
      ],
      "metadata": {
        "id": "acUcDGiqWOHb"
      },
      "execution_count": null,
      "outputs": []
    },
    {
      "cell_type": "code",
      "source": [
        "url=\"http://quotes.toscrape.com/page/1/\""
      ],
      "metadata": {
        "id": "ncEQv_cyWaYh"
      },
      "execution_count": 18,
      "outputs": []
    },
    {
      "cell_type": "code",
      "source": [
        "response=requests.get(url)"
      ],
      "metadata": {
        "id": "_0wwU8nxi587"
      },
      "execution_count": 19,
      "outputs": []
    },
    {
      "cell_type": "code",
      "source": [
        "response=response.content"
      ],
      "metadata": {
        "id": "Iknd7CFoi8Kp"
      },
      "execution_count": 20,
      "outputs": []
    },
    {
      "cell_type": "code",
      "source": [
        "soup=BeautifulSoup(response,'html.parser')"
      ],
      "metadata": {
        "id": "tj8iV8IPjBK9"
      },
      "execution_count": 21,
      "outputs": []
    },
    {
      "cell_type": "code",
      "source": [
        "div=soup.find('div')"
      ],
      "metadata": {
        "id": "jl8ODspXjHGv"
      },
      "execution_count": 22,
      "outputs": []
    },
    {
      "cell_type": "code",
      "source": [
        "contents=div.find_all(div,class_=\"quote\")"
      ],
      "metadata": {
        "id": "fxthDossjYXq"
      },
      "execution_count": 23,
      "outputs": []
    },
    {
      "cell_type": "code",
      "source": [
        "contents=div.find_all(div,class_=\"quote\")\n",
        "\n",
        "\n",
        "for k in contents:\n",
        "  quotes=k.find('span',class_=\"text\").text\n",
        "  print(quotes)"
      ],
      "metadata": {
        "id": "qri85V38kyWt"
      },
      "execution_count": 24,
      "outputs": []
    },
    {
      "cell_type": "code",
      "source": [
        "author_name=div.find_all('small', class_= 'author')\n",
        "for j in author_name:\n",
        "  name=j.text\n",
        "  print(name)\n"
      ],
      "metadata": {
        "colab": {
          "base_uri": "https://localhost:8080/"
        },
        "id": "VoYmdJLRn4Ya",
        "outputId": "6eae8133-5471-474d-fd9c-8b7989055192"
      },
      "execution_count": 25,
      "outputs": [
        {
          "output_type": "stream",
          "name": "stdout",
          "text": [
            "Albert Einstein\n",
            "J.K. Rowling\n",
            "Albert Einstein\n",
            "Jane Austen\n",
            "Marilyn Monroe\n",
            "Albert Einstein\n",
            "André Gide\n",
            "Thomas A. Edison\n",
            "Eleanor Roosevelt\n",
            "Steve Martin\n"
          ]
        }
      ]
    },
    {
      "cell_type": "code",
      "source": [
        "tags= div.find_all('a', class_= 'tag')\n",
        "\n",
        "for t in tags:\n",
        "  get_tags = t.text\n",
        "  print(get_tags)"
      ],
      "metadata": {
        "colab": {
          "base_uri": "https://localhost:8080/"
        },
        "id": "yH3V_rvhpYsz",
        "outputId": "49e21d8a-e74e-4e39-d8b1-71a9d67d1a69"
      },
      "execution_count": 26,
      "outputs": [
        {
          "output_type": "stream",
          "name": "stdout",
          "text": [
            "change\n",
            "deep-thoughts\n",
            "thinking\n",
            "world\n",
            "abilities\n",
            "choices\n",
            "inspirational\n",
            "life\n",
            "live\n",
            "miracle\n",
            "miracles\n",
            "aliteracy\n",
            "books\n",
            "classic\n",
            "humor\n",
            "be-yourself\n",
            "inspirational\n",
            "adulthood\n",
            "success\n",
            "value\n",
            "life\n",
            "love\n",
            "edison\n",
            "failure\n",
            "inspirational\n",
            "paraphrased\n",
            "misattributed-eleanor-roosevelt\n",
            "humor\n",
            "obvious\n",
            "simile\n",
            "love\n",
            "inspirational\n",
            "life\n",
            "humor\n",
            "books\n",
            "reading\n",
            "friendship\n",
            "friends\n",
            "truth\n",
            "simile\n"
          ]
        }
      ]
    },
    {
      "cell_type": "code",
      "source": [
        "tags= div.find_all('div', class_= 'quote')\n",
        "\n",
        "for content in tags:\n",
        "  tag = content.find('meta')\n",
        "  tag = tag['content']\n",
        "  print(tag)"
      ],
      "metadata": {
        "colab": {
          "base_uri": "https://localhost:8080/"
        },
        "id": "CCnc2K40qf50",
        "outputId": "9dc120be-960a-40b8-8ba0-74aeed5a47a0"
      },
      "execution_count": 27,
      "outputs": [
        {
          "output_type": "stream",
          "name": "stdout",
          "text": [
            "change,deep-thoughts,thinking,world\n",
            "abilities,choices\n",
            "inspirational,life,live,miracle,miracles\n",
            "aliteracy,books,classic,humor\n",
            "be-yourself,inspirational\n",
            "adulthood,success,value\n",
            "life,love\n",
            "edison,failure,inspirational,paraphrased\n",
            "misattributed-eleanor-roosevelt\n",
            "humor,obvious,simile\n"
          ]
        }
      ]
    },
    {
      "cell_type": "code",
      "source": [
        "Content =[]\n",
        "for i in range (1,11):\n",
        "  url = f\"http://quotes.toscrape.com/page/{i}/\"\n",
        "  response = requests.get(url)\n",
        "  response = response.content\n",
        "Soup= BeautifulSoup(response,'html.parser')\n",
        "div = Soup.find('div')\n",
        "\n",
        "contents= div.find_all('div', class_= 'quote')\n",
        "for content in contents:\n",
        "  quote= content.find('span').text\n",
        "  author = content.find('small').text\n",
        "   \n",
        "  tags = content.find('meta')\n",
        "  tags = tags['content']\n",
        "  Content.append([quote,author,tags])\n",
        "  print(Content)\n",
        "\n",
        "  df = pd.DataFrame(Content,columns= ['quote','author','tags'])\n",
        "  df.to_csv('webscraping_assignment1_HEMANT_GAUTAM_Unmassenger.csv',index=False)"
      ],
      "metadata": {
        "colab": {
          "base_uri": "https://localhost:8080/"
        },
        "id": "ea2cT5Gmqv5s",
        "outputId": "74b071e4-6a5f-4350-8bca-62559a22b9e2"
      },
      "execution_count": 29,
      "outputs": [
        {
          "output_type": "stream",
          "name": "stdout",
          "text": [
            "[['“The truth.\" Dumbledore sighed. \"It is a beautiful and terrible thing, and should therefore be treated with great caution.”', 'J.K. Rowling', 'truth']]\n",
            "[['“The truth.\" Dumbledore sighed. \"It is a beautiful and terrible thing, and should therefore be treated with great caution.”', 'J.K. Rowling', 'truth'], [\"“I'm the one that's got to die when it's time for me to die, so let me live my life the way I want to.”\", 'Jimi Hendrix', 'death,life']]\n",
            "[['“The truth.\" Dumbledore sighed. \"It is a beautiful and terrible thing, and should therefore be treated with great caution.”', 'J.K. Rowling', 'truth'], [\"“I'm the one that's got to die when it's time for me to die, so let me live my life the way I want to.”\", 'Jimi Hendrix', 'death,life'], ['“To die will be an awfully big adventure.”', 'J.M. Barrie', 'adventure,love']]\n",
            "[['“The truth.\" Dumbledore sighed. \"It is a beautiful and terrible thing, and should therefore be treated with great caution.”', 'J.K. Rowling', 'truth'], [\"“I'm the one that's got to die when it's time for me to die, so let me live my life the way I want to.”\", 'Jimi Hendrix', 'death,life'], ['“To die will be an awfully big adventure.”', 'J.M. Barrie', 'adventure,love'], ['“It takes courage to grow up and become who you really are.”', 'E.E. Cummings', 'courage']]\n",
            "[['“The truth.\" Dumbledore sighed. \"It is a beautiful and terrible thing, and should therefore be treated with great caution.”', 'J.K. Rowling', 'truth'], [\"“I'm the one that's got to die when it's time for me to die, so let me live my life the way I want to.”\", 'Jimi Hendrix', 'death,life'], ['“To die will be an awfully big adventure.”', 'J.M. Barrie', 'adventure,love'], ['“It takes courage to grow up and become who you really are.”', 'E.E. Cummings', 'courage'], ['“But better to get hurt by the truth than comforted with a lie.”', 'Khaled Hosseini', 'life']]\n",
            "[['“The truth.\" Dumbledore sighed. \"It is a beautiful and terrible thing, and should therefore be treated with great caution.”', 'J.K. Rowling', 'truth'], [\"“I'm the one that's got to die when it's time for me to die, so let me live my life the way I want to.”\", 'Jimi Hendrix', 'death,life'], ['“To die will be an awfully big adventure.”', 'J.M. Barrie', 'adventure,love'], ['“It takes courage to grow up and become who you really are.”', 'E.E. Cummings', 'courage'], ['“But better to get hurt by the truth than comforted with a lie.”', 'Khaled Hosseini', 'life'], ['“You never really understand a person until you consider things from his point of view... Until you climb inside of his skin and walk around in it.”', 'Harper Lee', 'better-life-empathy']]\n",
            "[['“The truth.\" Dumbledore sighed. \"It is a beautiful and terrible thing, and should therefore be treated with great caution.”', 'J.K. Rowling', 'truth'], [\"“I'm the one that's got to die when it's time for me to die, so let me live my life the way I want to.”\", 'Jimi Hendrix', 'death,life'], ['“To die will be an awfully big adventure.”', 'J.M. Barrie', 'adventure,love'], ['“It takes courage to grow up and become who you really are.”', 'E.E. Cummings', 'courage'], ['“But better to get hurt by the truth than comforted with a lie.”', 'Khaled Hosseini', 'life'], ['“You never really understand a person until you consider things from his point of view... Until you climb inside of his skin and walk around in it.”', 'Harper Lee', 'better-life-empathy'], ['“You have to write the book that wants to be written. And if the book will be too difficult for grown-ups, then you write it for children.”', \"Madeleine L'Engle\", 'books,children,difficult,grown-ups,write,writers,writing']]\n",
            "[['“The truth.\" Dumbledore sighed. \"It is a beautiful and terrible thing, and should therefore be treated with great caution.”', 'J.K. Rowling', 'truth'], [\"“I'm the one that's got to die when it's time for me to die, so let me live my life the way I want to.”\", 'Jimi Hendrix', 'death,life'], ['“To die will be an awfully big adventure.”', 'J.M. Barrie', 'adventure,love'], ['“It takes courage to grow up and become who you really are.”', 'E.E. Cummings', 'courage'], ['“But better to get hurt by the truth than comforted with a lie.”', 'Khaled Hosseini', 'life'], ['“You never really understand a person until you consider things from his point of view... Until you climb inside of his skin and walk around in it.”', 'Harper Lee', 'better-life-empathy'], ['“You have to write the book that wants to be written. And if the book will be too difficult for grown-ups, then you write it for children.”', \"Madeleine L'Engle\", 'books,children,difficult,grown-ups,write,writers,writing'], ['“Never tell the truth to people who are not worthy of it.”', 'Mark Twain', 'truth']]\n",
            "[['“The truth.\" Dumbledore sighed. \"It is a beautiful and terrible thing, and should therefore be treated with great caution.”', 'J.K. Rowling', 'truth'], [\"“I'm the one that's got to die when it's time for me to die, so let me live my life the way I want to.”\", 'Jimi Hendrix', 'death,life'], ['“To die will be an awfully big adventure.”', 'J.M. Barrie', 'adventure,love'], ['“It takes courage to grow up and become who you really are.”', 'E.E. Cummings', 'courage'], ['“But better to get hurt by the truth than comforted with a lie.”', 'Khaled Hosseini', 'life'], ['“You never really understand a person until you consider things from his point of view... Until you climb inside of his skin and walk around in it.”', 'Harper Lee', 'better-life-empathy'], ['“You have to write the book that wants to be written. And if the book will be too difficult for grown-ups, then you write it for children.”', \"Madeleine L'Engle\", 'books,children,difficult,grown-ups,write,writers,writing'], ['“Never tell the truth to people who are not worthy of it.”', 'Mark Twain', 'truth'], [\"“A person's a person, no matter how small.”\", 'Dr. Seuss', 'inspirational']]\n",
            "[['“The truth.\" Dumbledore sighed. \"It is a beautiful and terrible thing, and should therefore be treated with great caution.”', 'J.K. Rowling', 'truth'], [\"“I'm the one that's got to die when it's time for me to die, so let me live my life the way I want to.”\", 'Jimi Hendrix', 'death,life'], ['“To die will be an awfully big adventure.”', 'J.M. Barrie', 'adventure,love'], ['“It takes courage to grow up and become who you really are.”', 'E.E. Cummings', 'courage'], ['“But better to get hurt by the truth than comforted with a lie.”', 'Khaled Hosseini', 'life'], ['“You never really understand a person until you consider things from his point of view... Until you climb inside of his skin and walk around in it.”', 'Harper Lee', 'better-life-empathy'], ['“You have to write the book that wants to be written. And if the book will be too difficult for grown-ups, then you write it for children.”', \"Madeleine L'Engle\", 'books,children,difficult,grown-ups,write,writers,writing'], ['“Never tell the truth to people who are not worthy of it.”', 'Mark Twain', 'truth'], [\"“A person's a person, no matter how small.”\", 'Dr. Seuss', 'inspirational'], ['“... a mind needs books as a sword needs a whetstone, if it is to keep its edge.”', 'George R.R. Martin', 'books,mind']]\n"
          ]
        }
      ]
    },
    {
      "cell_type": "code",
      "source": [
        "df.head(10)"
      ],
      "metadata": {
        "colab": {
          "base_uri": "https://localhost:8080/",
          "height": 363
        },
        "id": "XqSQBzr_s9c6",
        "outputId": "20842e65-ef94-47e3-f62d-56844d686b4f"
      },
      "execution_count": 31,
      "outputs": [
        {
          "output_type": "execute_result",
          "data": {
            "text/plain": [
              "                                               quote              author  \\\n",
              "0  “The truth.\" Dumbledore sighed. \"It is a beaut...        J.K. Rowling   \n",
              "1  “I'm the one that's got to die when it's time ...        Jimi Hendrix   \n",
              "2         “To die will be an awfully big adventure.”         J.M. Barrie   \n",
              "3  “It takes courage to grow up and become who yo...       E.E. Cummings   \n",
              "4  “But better to get hurt by the truth than comf...     Khaled Hosseini   \n",
              "5  “You never really understand a person until yo...          Harper Lee   \n",
              "6  “You have to write the book that wants to be w...   Madeleine L'Engle   \n",
              "7  “Never tell the truth to people who are not wo...          Mark Twain   \n",
              "8        “A person's a person, no matter how small.”           Dr. Seuss   \n",
              "9  “... a mind needs books as a sword needs a whe...  George R.R. Martin   \n",
              "\n",
              "                                                tags  \n",
              "0                                              truth  \n",
              "1                                         death,life  \n",
              "2                                     adventure,love  \n",
              "3                                            courage  \n",
              "4                                               life  \n",
              "5                                better-life-empathy  \n",
              "6  books,children,difficult,grown-ups,write,write...  \n",
              "7                                              truth  \n",
              "8                                      inspirational  \n",
              "9                                         books,mind  "
            ],
            "text/html": [
              "\n",
              "  <div id=\"df-3fb57885-e3f1-4032-9675-27fa7b9d15da\">\n",
              "    <div class=\"colab-df-container\">\n",
              "      <div>\n",
              "<style scoped>\n",
              "    .dataframe tbody tr th:only-of-type {\n",
              "        vertical-align: middle;\n",
              "    }\n",
              "\n",
              "    .dataframe tbody tr th {\n",
              "        vertical-align: top;\n",
              "    }\n",
              "\n",
              "    .dataframe thead th {\n",
              "        text-align: right;\n",
              "    }\n",
              "</style>\n",
              "<table border=\"1\" class=\"dataframe\">\n",
              "  <thead>\n",
              "    <tr style=\"text-align: right;\">\n",
              "      <th></th>\n",
              "      <th>quote</th>\n",
              "      <th>author</th>\n",
              "      <th>tags</th>\n",
              "    </tr>\n",
              "  </thead>\n",
              "  <tbody>\n",
              "    <tr>\n",
              "      <th>0</th>\n",
              "      <td>“The truth.\" Dumbledore sighed. \"It is a beaut...</td>\n",
              "      <td>J.K. Rowling</td>\n",
              "      <td>truth</td>\n",
              "    </tr>\n",
              "    <tr>\n",
              "      <th>1</th>\n",
              "      <td>“I'm the one that's got to die when it's time ...</td>\n",
              "      <td>Jimi Hendrix</td>\n",
              "      <td>death,life</td>\n",
              "    </tr>\n",
              "    <tr>\n",
              "      <th>2</th>\n",
              "      <td>“To die will be an awfully big adventure.”</td>\n",
              "      <td>J.M. Barrie</td>\n",
              "      <td>adventure,love</td>\n",
              "    </tr>\n",
              "    <tr>\n",
              "      <th>3</th>\n",
              "      <td>“It takes courage to grow up and become who yo...</td>\n",
              "      <td>E.E. Cummings</td>\n",
              "      <td>courage</td>\n",
              "    </tr>\n",
              "    <tr>\n",
              "      <th>4</th>\n",
              "      <td>“But better to get hurt by the truth than comf...</td>\n",
              "      <td>Khaled Hosseini</td>\n",
              "      <td>life</td>\n",
              "    </tr>\n",
              "    <tr>\n",
              "      <th>5</th>\n",
              "      <td>“You never really understand a person until yo...</td>\n",
              "      <td>Harper Lee</td>\n",
              "      <td>better-life-empathy</td>\n",
              "    </tr>\n",
              "    <tr>\n",
              "      <th>6</th>\n",
              "      <td>“You have to write the book that wants to be w...</td>\n",
              "      <td>Madeleine L'Engle</td>\n",
              "      <td>books,children,difficult,grown-ups,write,write...</td>\n",
              "    </tr>\n",
              "    <tr>\n",
              "      <th>7</th>\n",
              "      <td>“Never tell the truth to people who are not wo...</td>\n",
              "      <td>Mark Twain</td>\n",
              "      <td>truth</td>\n",
              "    </tr>\n",
              "    <tr>\n",
              "      <th>8</th>\n",
              "      <td>“A person's a person, no matter how small.”</td>\n",
              "      <td>Dr. Seuss</td>\n",
              "      <td>inspirational</td>\n",
              "    </tr>\n",
              "    <tr>\n",
              "      <th>9</th>\n",
              "      <td>“... a mind needs books as a sword needs a whe...</td>\n",
              "      <td>George R.R. Martin</td>\n",
              "      <td>books,mind</td>\n",
              "    </tr>\n",
              "  </tbody>\n",
              "</table>\n",
              "</div>\n",
              "      <button class=\"colab-df-convert\" onclick=\"convertToInteractive('df-3fb57885-e3f1-4032-9675-27fa7b9d15da')\"\n",
              "              title=\"Convert this dataframe to an interactive table.\"\n",
              "              style=\"display:none;\">\n",
              "        \n",
              "  <svg xmlns=\"http://www.w3.org/2000/svg\" height=\"24px\"viewBox=\"0 0 24 24\"\n",
              "       width=\"24px\">\n",
              "    <path d=\"M0 0h24v24H0V0z\" fill=\"none\"/>\n",
              "    <path d=\"M18.56 5.44l.94 2.06.94-2.06 2.06-.94-2.06-.94-.94-2.06-.94 2.06-2.06.94zm-11 1L8.5 8.5l.94-2.06 2.06-.94-2.06-.94L8.5 2.5l-.94 2.06-2.06.94zm10 10l.94 2.06.94-2.06 2.06-.94-2.06-.94-.94-2.06-.94 2.06-2.06.94z\"/><path d=\"M17.41 7.96l-1.37-1.37c-.4-.4-.92-.59-1.43-.59-.52 0-1.04.2-1.43.59L10.3 9.45l-7.72 7.72c-.78.78-.78 2.05 0 2.83L4 21.41c.39.39.9.59 1.41.59.51 0 1.02-.2 1.41-.59l7.78-7.78 2.81-2.81c.8-.78.8-2.07 0-2.86zM5.41 20L4 18.59l7.72-7.72 1.47 1.35L5.41 20z\"/>\n",
              "  </svg>\n",
              "      </button>\n",
              "      \n",
              "  <style>\n",
              "    .colab-df-container {\n",
              "      display:flex;\n",
              "      flex-wrap:wrap;\n",
              "      gap: 12px;\n",
              "    }\n",
              "\n",
              "    .colab-df-convert {\n",
              "      background-color: #E8F0FE;\n",
              "      border: none;\n",
              "      border-radius: 50%;\n",
              "      cursor: pointer;\n",
              "      display: none;\n",
              "      fill: #1967D2;\n",
              "      height: 32px;\n",
              "      padding: 0 0 0 0;\n",
              "      width: 32px;\n",
              "    }\n",
              "\n",
              "    .colab-df-convert:hover {\n",
              "      background-color: #E2EBFA;\n",
              "      box-shadow: 0px 1px 2px rgba(60, 64, 67, 0.3), 0px 1px 3px 1px rgba(60, 64, 67, 0.15);\n",
              "      fill: #174EA6;\n",
              "    }\n",
              "\n",
              "    [theme=dark] .colab-df-convert {\n",
              "      background-color: #3B4455;\n",
              "      fill: #D2E3FC;\n",
              "    }\n",
              "\n",
              "    [theme=dark] .colab-df-convert:hover {\n",
              "      background-color: #434B5C;\n",
              "      box-shadow: 0px 1px 3px 1px rgba(0, 0, 0, 0.15);\n",
              "      filter: drop-shadow(0px 1px 2px rgba(0, 0, 0, 0.3));\n",
              "      fill: #FFFFFF;\n",
              "    }\n",
              "  </style>\n",
              "\n",
              "      <script>\n",
              "        const buttonEl =\n",
              "          document.querySelector('#df-3fb57885-e3f1-4032-9675-27fa7b9d15da button.colab-df-convert');\n",
              "        buttonEl.style.display =\n",
              "          google.colab.kernel.accessAllowed ? 'block' : 'none';\n",
              "\n",
              "        async function convertToInteractive(key) {\n",
              "          const element = document.querySelector('#df-3fb57885-e3f1-4032-9675-27fa7b9d15da');\n",
              "          const dataTable =\n",
              "            await google.colab.kernel.invokeFunction('convertToInteractive',\n",
              "                                                     [key], {});\n",
              "          if (!dataTable) return;\n",
              "\n",
              "          const docLinkHtml = 'Like what you see? Visit the ' +\n",
              "            '<a target=\"_blank\" href=https://colab.research.google.com/notebooks/data_table.ipynb>data table notebook</a>'\n",
              "            + ' to learn more about interactive tables.';\n",
              "          element.innerHTML = '';\n",
              "          dataTable['output_type'] = 'display_data';\n",
              "          await google.colab.output.renderOutput(dataTable, element);\n",
              "          const docLink = document.createElement('div');\n",
              "          docLink.innerHTML = docLinkHtml;\n",
              "          element.appendChild(docLink);\n",
              "        }\n",
              "      </script>\n",
              "    </div>\n",
              "  </div>\n",
              "  "
            ]
          },
          "metadata": {},
          "execution_count": 31
        }
      ]
    },
    {
      "cell_type": "code",
      "source": [],
      "metadata": {
        "id": "Zf13qtDltE9O"
      },
      "execution_count": null,
      "outputs": []
    }
  ]
}